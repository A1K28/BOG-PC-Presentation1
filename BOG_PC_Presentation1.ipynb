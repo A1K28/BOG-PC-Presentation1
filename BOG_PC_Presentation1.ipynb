{
  "nbformat": 4,
  "nbformat_minor": 0,
  "metadata": {
    "colab": {
      "name": "BOG-PC-Presentation1.ipynb",
      "provenance": [],
      "collapsed_sections": []
    },
    "kernelspec": {
      "name": "python3",
      "display_name": "Python 3"
    },
    "language_info": {
      "name": "python"
    }
  },
  "cells": [
    {
      "cell_type": "code",
      "source": [
        "!pip install gdown"
      ],
      "metadata": {
        "colab": {
          "base_uri": "https://localhost:8080/"
        },
        "id": "G-96AIoMPHYE",
        "outputId": "838a7b82-1132-49e3-a0d8-8bdbefe32e43"
      },
      "execution_count": null,
      "outputs": [
        {
          "output_type": "stream",
          "name": "stdout",
          "text": [
            "Requirement already satisfied: gdown in /usr/local/lib/python3.7/dist-packages (4.2.2)\n",
            "Requirement already satisfied: filelock in /usr/local/lib/python3.7/dist-packages (from gdown) (3.6.0)\n",
            "Requirement already satisfied: beautifulsoup4 in /usr/local/lib/python3.7/dist-packages (from gdown) (4.6.3)\n",
            "Requirement already satisfied: tqdm in /usr/local/lib/python3.7/dist-packages (from gdown) (4.63.0)\n",
            "Requirement already satisfied: six in /usr/local/lib/python3.7/dist-packages (from gdown) (1.15.0)\n",
            "Requirement already satisfied: requests[socks] in /usr/local/lib/python3.7/dist-packages (from gdown) (2.23.0)\n",
            "Requirement already satisfied: certifi>=2017.4.17 in /usr/local/lib/python3.7/dist-packages (from requests[socks]->gdown) (2021.10.8)\n",
            "Requirement already satisfied: chardet<4,>=3.0.2 in /usr/local/lib/python3.7/dist-packages (from requests[socks]->gdown) (3.0.4)\n",
            "Requirement already satisfied: idna<3,>=2.5 in /usr/local/lib/python3.7/dist-packages (from requests[socks]->gdown) (2.10)\n",
            "Requirement already satisfied: urllib3!=1.25.0,!=1.25.1,<1.26,>=1.21.1 in /usr/local/lib/python3.7/dist-packages (from requests[socks]->gdown) (1.24.3)\n",
            "Requirement already satisfied: PySocks!=1.5.7,>=1.5.6 in /usr/local/lib/python3.7/dist-packages (from requests[socks]->gdown) (1.7.1)\n"
          ]
        }
      ]
    },
    {
      "cell_type": "code",
      "source": [
        "!wget --no-check-certificate 'https://drive.google.com/uc?export=download&id=1EsrFTPGfGFwQ9hfhHmEsgSMSeWBrrxgP' -O mnist.pkl.gz"
      ],
      "metadata": {
        "colab": {
          "base_uri": "https://localhost:8080/"
        },
        "id": "sgZ45bwwU7BD",
        "outputId": "229d6f0c-8fb7-4d82-843b-4c1760d911fa"
      },
      "execution_count": null,
      "outputs": [
        {
          "output_type": "stream",
          "name": "stdout",
          "text": [
            "--2022-03-22 06:47:08--  https://drive.google.com/uc?export=download&id=1EsrFTPGfGFwQ9hfhHmEsgSMSeWBrrxgP\n",
            "Resolving drive.google.com (drive.google.com)... 142.251.18.138, 142.251.18.100, 142.251.18.113, ...\n",
            "Connecting to drive.google.com (drive.google.com)|142.251.18.138|:443... connected.\n",
            "HTTP request sent, awaiting response... 303 See Other\n",
            "Location: https://doc-0k-0c-docs.googleusercontent.com/docs/securesc/ha0ro937gcuc7l7deffksulhg5h7mbp1/a3d2judbv0ishk5ndqmehqjeree1gisk/1647931575000/09089158620609118346/*/1EsrFTPGfGFwQ9hfhHmEsgSMSeWBrrxgP?e=download [following]\n",
            "Warning: wildcards not supported in HTTP.\n",
            "--2022-03-22 06:47:10--  https://doc-0k-0c-docs.googleusercontent.com/docs/securesc/ha0ro937gcuc7l7deffksulhg5h7mbp1/a3d2judbv0ishk5ndqmehqjeree1gisk/1647931575000/09089158620609118346/*/1EsrFTPGfGFwQ9hfhHmEsgSMSeWBrrxgP?e=download\n",
            "Resolving doc-0k-0c-docs.googleusercontent.com (doc-0k-0c-docs.googleusercontent.com)... 108.177.126.132, 2a00:1450:4013:c01::84\n",
            "Connecting to doc-0k-0c-docs.googleusercontent.com (doc-0k-0c-docs.googleusercontent.com)|108.177.126.132|:443... connected.\n",
            "HTTP request sent, awaiting response... 200 OK\n",
            "Length: 17051982 (16M) [application/x-gzip]\n",
            "Saving to: ‘mnist.pkl.gz’\n",
            "\n",
            "mnist.pkl.gz        100%[===================>]  16.26M  33.5MB/s    in 0.5s    \n",
            "\n",
            "2022-03-22 06:47:11 (33.5 MB/s) - ‘mnist.pkl.gz’ saved [17051982/17051982]\n",
            "\n"
          ]
        }
      ]
    },
    {
      "cell_type": "markdown",
      "source": [
        "The following 2 cells contain adapted codes from http://neuralnetworksanddeeplearning.com/chap1.html (written by Michael Nielsen).\n",
        "\n",
        "Small changes were necessary to run on Python 3.\n",
        "\n",
        "Also, I've modified some parts of the code for different reasons (e.g. to plot train vs. validation loss on each epoch)."
      ],
      "metadata": {
        "id": "4J-_WHtXWwYM"
      }
    },
    {
      "cell_type": "code",
      "source": [
        "\"\"\"\n",
        "mnist_loader\n",
        "~~~~~~~~~~~~\n",
        "A library to load the MNIST image data.  For details of the data\n",
        "structures that are returned, see the doc strings for ``load_data``\n",
        "and ``load_data_wrapper``.  In practice, ``load_data_wrapper`` is the\n",
        "function usually called by our neural network code.\n",
        "\"\"\"\n",
        "\n",
        "#### Libraries\n",
        "# Standard library\n",
        "import pickle\n",
        "import gzip\n",
        "\n",
        "# Third-party libraries\n",
        "import numpy as np\n",
        "\n",
        "def load_data():\n",
        "    \"\"\"Return the MNIST data as a tuple containing the training data,\n",
        "    the validation data, and the test data.\n",
        "    The ``training_data`` is returned as a tuple with two entries.\n",
        "    The first entry contains the actual training images.  This is a\n",
        "    numpy ndarray with 50,000 entries.  Each entry is, in turn, a\n",
        "    numpy ndarray with 784 values, representing the 28 * 28 = 784\n",
        "    pixels in a single MNIST image.\n",
        "    The second entry in the ``training_data`` tuple is a numpy ndarray\n",
        "    containing 50,000 entries.  Those entries are just the digit\n",
        "    values (0...9) for the corresponding images contained in the first\n",
        "    entry of the tuple.\n",
        "    The ``validation_data`` and ``test_data`` are similar, except\n",
        "    each contains only 10,000 images.\n",
        "    This is a nice data format, but for use in neural networks it's\n",
        "    helpful to modify the format of the ``training_data`` a little.\n",
        "    That's done in the wrapper function ``load_data_wrapper()``, see\n",
        "    below.\n",
        "    \"\"\"\n",
        "    f = gzip.open('mnist.pkl.gz', 'rb')\n",
        "    training_data, validation_data, test_data = pickle.load(f,encoding='iso-8859-1')\n",
        "    f.close()\n",
        "    return (training_data, validation_data, test_data)\n",
        "\n",
        "def load_data_wrapper():\n",
        "    \"\"\"Return a tuple containing ``(training_data, validation_data,\n",
        "    test_data)``. Based on ``load_data``, but the format is more\n",
        "    convenient for use in our implementation of neural networks.\n",
        "    In particular, ``training_data`` is a list containing 50,000\n",
        "    2-tuples ``(x, y)``.  ``x`` is a 784-dimensional numpy.ndarray\n",
        "    containing the input image.  ``y`` is a 10-dimensional\n",
        "    numpy.ndarray representing the unit vector corresponding to the\n",
        "    correct digit for ``x``.\n",
        "    ``validation_data`` and ``test_data`` are lists containing 10,000\n",
        "    2-tuples ``(x, y)``.  In each case, ``x`` is a 784-dimensional\n",
        "    numpy.ndarry containing the input image, and ``y`` is the\n",
        "    corresponding classification, i.e., the digit values (integers)\n",
        "    corresponding to ``x``.\n",
        "    Obviously, this means we're using slightly different formats for\n",
        "    the training data and the validation / test data.  These formats\n",
        "    turn out to be the most convenient for use in our neural network\n",
        "    code.\"\"\"\n",
        "    tr_d, va_d, te_d = load_data()\n",
        "    training_inputs = [np.reshape(x, (784, 1)) for x in tr_d[0]]\n",
        "    training_results = [vectorized_result(y) for y in tr_d[1]]\n",
        "    training_data = list(zip(training_inputs, training_results))\n",
        "    validation_inputs = [np.reshape(x, (784, 1)) for x in va_d[0]]\n",
        "    validation_data = list(zip(validation_inputs, va_d[1]))\n",
        "    test_inputs = [np.reshape(x, (784, 1)) for x in te_d[0]]\n",
        "    test_data = list(zip(test_inputs, te_d[1]))\n",
        "    return (training_data, validation_data, test_data)\n",
        "\n",
        "def vectorized_result(j):\n",
        "    \"\"\"Return a 10-dimensional unit vector with a 1.0 in the jth\n",
        "    position and zeroes elsewhere.  This is used to convert a digit\n",
        "    (0...9) into a corresponding desired output from the neural\n",
        "    network.\"\"\"\n",
        "    e = np.zeros((10, 1))\n",
        "    e[j] = 1.0\n",
        "    return e"
      ],
      "metadata": {
        "id": "D10MveQkLZmD"
      },
      "execution_count": null,
      "outputs": []
    },
    {
      "cell_type": "code",
      "execution_count": null,
      "metadata": {
        "id": "NXed9PpBLBYn"
      },
      "outputs": [],
      "source": [
        "# Standard library\n",
        "import random\n",
        "\n",
        "# Third-party libraries\n",
        "import numpy as np\n",
        "\n",
        "from matplotlib import pyplot as plt\n",
        "from matplotlib.pyplot import figure\n",
        "\n",
        "class Network(object):\n",
        "\tdef __init__(self,sizes): #the list sizes contains the number of neurons in the respective layers.\n",
        "\t\tself.num_layers = len(sizes)  #the number of the layers in Network\n",
        "\t\tself.sizes = sizes\n",
        "\t\tself.biases = [np.random.randn(y,1) for y in sizes[1:]]\n",
        "\t\tself.weights = [np.random.randn(y,x) \n",
        "\t\t\t\t\t\tfor x,y in zip(sizes[:-1],sizes[1:])]\n",
        "\n",
        "\tdef feedforward(self,a):\n",
        "\t\t\"\"\"Return the output of the network if \"a\" is input\"\"\"\n",
        "\t\tfor b,w in zip(self.biases,self.weights):\n",
        "\t\t\ta = sigmoid(np.dot(w,a) + b)        \n",
        "\t\treturn a\n",
        "  \n",
        "\tdef calc_loss_metric(self, data, train=False):\n",
        "\t\t\tloss = 0\n",
        "\t\t\tfor x,y in data:\n",
        "\t\t\t\tffx = self.feedforward(x)\n",
        "\t\t\t\tif not train:\n",
        "\t\t\t\t\ty = [[0.] if y!=i else [1.] for i in range(10)]\n",
        "\t\t\t\tloss += (ffx-y)**2\n",
        "\t\t\tloss = sum(loss)[0]/len(loss)\n",
        "\t\t\treturn loss if train else loss*5;\n",
        "\t\t\n",
        "\tdef SGD(self, training_data, epochs, mini_batch_size,eta,test_data):\n",
        "\t\t\"\"\"\n",
        "\t\tTrain the neural network using mini-batch stochastic gradient descent.\n",
        "\t\tThe \"training_data\" is a list of tuples \"(x,y)\" representing the training inputs\n",
        "\t\tand the desired output. The other non-optional parameters are self-explanatory.\n",
        "\t\tIf \"test_data\" is provided then the network will be evaluated against the test \n",
        "\t\tdata after each epoch, and partial progress printed out. This is useful for tracking\n",
        "\t\tprocess, but slows things down substantially.\n",
        "\t\t\"\"\"\n",
        "\t\ttlosses = []\n",
        "\t\tvlosses = []\n",
        "\t\tn_test = len(test_data)\n",
        "\t\tn = len(training_data)\n",
        "\t\tfor j in range(epochs):\n",
        "\t\t\trandom.shuffle(training_data)        #rearrange the training_data randomly\n",
        "\t\t\tmini_batches = [ training_data[k:k + mini_batch_size]\n",
        "\t\t\t\t\t\t\t\t\t\t   for k in range(0, n, mini_batch_size)]\n",
        "\t\t\tfor mini_batch in mini_batches:\n",
        "\t\t\t\tself.update_mini_batch(mini_batch,eta)\n",
        "    \n",
        "\t\t\t#calculate metrics and print them\n",
        "\t\t\ttrain_loss = self.calc_loss_metric(training_data, train=True)\n",
        "\t\t\tval_loss = self.calc_loss_metric(test_data)\n",
        "\t\t\ttrain_acc = self.evaluate(training_data, train=True)\n",
        "\t\t\tprint(\"Epoch {0}: train_loss: {1}, train_acc: {2} / {3}, val_loss: {4}, val_acc: {5} / {6}\"\n",
        "\t\t\t\t.format(j, train_loss, train_acc, n, val_loss, self.evaluate(test_data), n_test))\n",
        "\n",
        "\t\t\ttlosses.append(train_loss)\n",
        "\t\t\tvlosses.append(val_loss)\n",
        "\n",
        "\t\t#plot training losses & validation losses against epochs\n",
        "\t\tplot_losses(tlosses, vlosses, epochs)\n",
        "\n",
        "\tdef update_mini_batch(self,mini_batch,eta):\n",
        "\t\t\"\"\"\n",
        "\t\tUpdate the network's weights and biases by applying gradient descent using backpropagation\n",
        "\t\tto a single mini batch. The \"mini_batch\" is a list of tuples \"(x,y)\" and \"eta\" is the learning\n",
        "\t\trate.\n",
        "\t\t\"\"\"\n",
        "\t\tnabla_b = [np.zeros(b.shape) for b in self.biases]\n",
        "\t\tnabla_w = [np.zeros(w.shape) for w in self.weights]\n",
        "\t\tfor x, y in mini_batch:\n",
        "\t\t\tdelta_nabla_b, delta_nabla_w = self.backprop(x, y)\n",
        "\t\t\tnabla_b = [nb+dnb for nb, dnb in zip(nabla_b, delta_nabla_b)]\n",
        "\t\t\tnabla_w = [nw+dnw for nw, dnw in zip(nabla_w, delta_nabla_w)]\n",
        "\t\tself.weights = [w-(eta/len(mini_batch))*nw \n",
        "\t\t\t\t\t\tfor w, nw in zip(self.weights, nabla_w)]\n",
        "\t\tself.biases = [b-(eta/len(mini_batch))*nb \n",
        "\t\t\t\t\t   for b, nb in zip(self.biases, nabla_b)]\n",
        "\t\n",
        "\tdef backprop(self, x, y):\n",
        "\t\t\"\"\"Return a tuple ``(nabla_b, nabla_w)`` representing the\n",
        "\t\tgradient for the cost function C_x.  ``nabla_b`` and\n",
        "\t\t``nabla_w`` are layer-by-layer lists of numpy arrays, similar\n",
        "\t\tto ``self.biases`` and ``self.weights``.\"\"\"\n",
        "\t\tnabla_b = [np.zeros(b.shape) for b in self.biases]\n",
        "\t\tnabla_w = [np.zeros(w.shape) for w in self.weights]\n",
        "\t\t# feedforward\n",
        "\t\tactivation = x\n",
        "\t\tactivations = [x] # list to store all the activations, layer by layer\n",
        "\t\tzs = [] # list to store all the z vectors, layer by layer\n",
        "\t\tfor b, w in zip(self.biases, self.weights):\n",
        "\t\t\tz = np.dot(w, activation)+b\n",
        "\t\t\tzs.append(z)\n",
        "\t\t\tactivation = sigmoid(z)\n",
        "\t\t\tactivations.append(activation)\n",
        "\t\t# backward pass\n",
        "\t\tdelta = self.cost_derivative(activations[-1], y) * \\\n",
        "\t\t\tsigmoid_prime(zs[-1])\n",
        "\t\tnabla_b[-1] = delta\n",
        "\t\tnabla_w[-1] = np.dot(delta, activations[-2].transpose())\n",
        "\t\t# Note that the variable l in the loop below is used a little\n",
        "\t\t# differently to the notation in Chapter 2 of the book.  Here,\n",
        "\t\t# l = 1 means the last layer of neurons, l = 2 is the\n",
        "\t\t# second-last layer, and so on.  It's a renumbering of the\n",
        "\t\t# scheme in the book, used here to take advantage of the fact\n",
        "\t\t# that Python can use negative indices in lists.\n",
        "\t\tfor l in range(2, self.num_layers):\n",
        "\t\t\tz = zs[-l]\n",
        "\t\t\tsp = sigmoid_prime(z)\n",
        "\t\t\tdelta = np.dot(self.weights[-l+1].transpose(), delta) * sp\n",
        "\t\t\tnabla_b[-l] = delta\n",
        "\t\t\tnabla_w[-l] = np.dot(delta, activations[-l-1].transpose())\n",
        "\t\treturn (nabla_b, nabla_w)\n",
        "\n",
        "\tdef evaluate(self, test_data, train=False):\n",
        "\t\t\"\"\"Return the number of test inputs for which the neural\n",
        "\t\tnetwork outputs the correct result. Note that the neural\n",
        "\t\tnetwork's output is assumed to be the index of whichever\n",
        "\t\tneuron in the final layer has the highest activation.\"\"\"\n",
        "\t\ttest_results = [(np.argmax(self.feedforward(x)), np.argmax(y) if train else y)\n",
        "\t\t\t\t\t\tfor (x, y) in test_data]\n",
        "\t\treturn sum(int(x == y) for (x, y) in test_results)\n",
        "\n",
        "\tdef cost_derivative(self, output_activations, y):\n",
        "\t\t\"\"\"Return the vector of partial derivatives \\partial C_x /\n",
        "\t\t\\partial a for the output activations.\"\"\"\n",
        "\t\treturn (output_activations-y)\n",
        "\t\t\n",
        "#### Miscellaneous functions\n",
        "def sigmoid(z):\n",
        "\t\"\"\"The sigmoid function.\"\"\"\n",
        "\treturn 1.0/(1.0+np.exp(-z))\n",
        "\n",
        "def sigmoid_prime(z):\n",
        "\t\"\"\"Derivative of the sigmoid function.\"\"\"\n",
        "\treturn sigmoid(z)*(1-sigmoid(z))\n",
        " \n",
        "def plot_losses(tlosses, vlosses, epochs):\n",
        "\t\tfigure(figsize=(8, 6), dpi=80)\n",
        "\t\tplt.plot([i for i in range(epochs)], tlosses, label='Train Loss')\n",
        "\t\tplt.plot([i for i in range(epochs)], vlosses, label='Validation Loss')\n",
        "\t\tplt.locator_params(axis=\"x\", integer=True)\n",
        "\t\tplt.xlabel(\"Epoch\")\n",
        "\t\tplt.ylabel(\"Loss\")\n",
        "\t\tplt.legend()"
      ]
    },
    {
      "cell_type": "code",
      "source": [
        "training_data, validation_data, test_data = load_data_wrapper()"
      ],
      "metadata": {
        "id": "kLW5HOdALGDQ"
      },
      "execution_count": null,
      "outputs": []
    },
    {
      "cell_type": "code",
      "source": [
        "net = Network([784, 30, 10])"
      ],
      "metadata": {
        "id": "2Bj4qiJtQnuy"
      },
      "execution_count": null,
      "outputs": []
    },
    {
      "cell_type": "code",
      "source": [
        "net.SGD(training_data, 30, 10, 3.0, test_data=test_data)"
      ],
      "metadata": {
        "colab": {
          "base_uri": "https://localhost:8080/",
          "height": 948
        },
        "id": "o5RfDBi_QxRM",
        "outputId": "f340fad7-93de-4752-8936-2227ba2d19fd"
      },
      "execution_count": null,
      "outputs": [
        {
          "output_type": "stream",
          "name": "stdout",
          "text": [
            "Epoch 0: train_loss: 527.2711502672917, train_acc: 46888 / 50000, val_loss: 538.2981460026981, val_acc: 9361 / 10000\n",
            "Epoch 1: train_loss: 476.98826499097885, train_acc: 47165 / 50000, val_loss: 509.2424147301625, val_acc: 9384 / 10000\n",
            "Epoch 2: train_loss: 452.4236407637437, train_acc: 47366 / 50000, val_loss: 502.13788799549457, val_acc: 9393 / 10000\n",
            "Epoch 3: train_loss: 426.2813093810555, train_acc: 47517 / 50000, val_loss: 492.753862152473, val_acc: 9395 / 10000\n",
            "Epoch 4: train_loss: 408.79522617845345, train_acc: 47605 / 50000, val_loss: 483.28045485616536, val_acc: 9422 / 10000\n",
            "Epoch 5: train_loss: 383.47197500606023, train_acc: 47786 / 50000, val_loss: 474.87215034855365, val_acc: 9441 / 10000\n",
            "Epoch 6: train_loss: 362.4729316253977, train_acc: 47943 / 50000, val_loss: 457.5082507509886, val_acc: 9458 / 10000\n",
            "Epoch 7: train_loss: 347.862036519611, train_acc: 48012 / 50000, val_loss: 450.527666942967, val_acc: 9454 / 10000\n",
            "Epoch 8: train_loss: 344.23200450432273, train_acc: 48035 / 50000, val_loss: 450.60135669481076, val_acc: 9467 / 10000\n",
            "Epoch 9: train_loss: 338.0822090057427, train_acc: 48060 / 50000, val_loss: 452.9688867059848, val_acc: 9469 / 10000\n",
            "Epoch 10: train_loss: 312.4897359025923, train_acc: 48219 / 50000, val_loss: 434.7101685910195, val_acc: 9486 / 10000\n",
            "Epoch 11: train_loss: 338.56241844878025, train_acc: 48102 / 50000, val_loss: 454.8296565751536, val_acc: 9470 / 10000\n",
            "Epoch 12: train_loss: 311.11035728874367, train_acc: 48190 / 50000, val_loss: 433.8638268646239, val_acc: 9504 / 10000\n",
            "Epoch 13: train_loss: 318.0100213069326, train_acc: 48228 / 50000, val_loss: 447.4756199467464, val_acc: 9492 / 10000\n",
            "Epoch 14: train_loss: 292.9435954843563, train_acc: 48303 / 50000, val_loss: 441.3551395049032, val_acc: 9469 / 10000\n",
            "Epoch 15: train_loss: 290.9676412871727, train_acc: 48344 / 50000, val_loss: 443.6880035905758, val_acc: 9490 / 10000\n",
            "Epoch 16: train_loss: 281.64307403008956, train_acc: 48413 / 50000, val_loss: 434.40242317021625, val_acc: 9506 / 10000\n",
            "Epoch 17: train_loss: 267.021870814056, train_acc: 48491 / 50000, val_loss: 420.8363934627403, val_acc: 9507 / 10000\n",
            "Epoch 18: train_loss: 259.526021881738, train_acc: 48551 / 50000, val_loss: 429.3228861798632, val_acc: 9495 / 10000\n",
            "Epoch 19: train_loss: 276.87761056368436, train_acc: 48431 / 50000, val_loss: 435.51882042537335, val_acc: 9497 / 10000\n",
            "Epoch 20: train_loss: 250.0637359655756, train_acc: 48576 / 50000, val_loss: 416.0441962145634, val_acc: 9518 / 10000\n",
            "Epoch 21: train_loss: 259.30761414741164, train_acc: 48519 / 50000, val_loss: 424.5418150599221, val_acc: 9511 / 10000\n",
            "Epoch 22: train_loss: 244.3306052998721, train_acc: 48592 / 50000, val_loss: 408.2657852607147, val_acc: 9531 / 10000\n",
            "Epoch 23: train_loss: 246.18002313112197, train_acc: 48578 / 50000, val_loss: 420.0359056024584, val_acc: 9514 / 10000\n",
            "Epoch 24: train_loss: 233.25593953844955, train_acc: 48664 / 50000, val_loss: 418.8058224168753, val_acc: 9522 / 10000\n",
            "Epoch 25: train_loss: 249.19924679600717, train_acc: 48554 / 50000, val_loss: 423.47047927443725, val_acc: 9512 / 10000\n",
            "Epoch 26: train_loss: 230.38837165604778, train_acc: 48671 / 50000, val_loss: 427.10229054214994, val_acc: 9514 / 10000\n",
            "Epoch 27: train_loss: 228.62734035153207, train_acc: 48672 / 50000, val_loss: 424.27936802839565, val_acc: 9508 / 10000\n",
            "Epoch 28: train_loss: 230.96337599757044, train_acc: 48675 / 50000, val_loss: 438.861736085771, val_acc: 9500 / 10000\n",
            "Epoch 29: train_loss: 227.65448860139276, train_acc: 48704 / 50000, val_loss: 423.3604210449591, val_acc: 9516 / 10000\n"
          ]
        },
        {
          "output_type": "display_data",
          "data": {
            "text/plain": [
              "<Figure size 640x480 with 1 Axes>"
            ],
            "image/png": "[encoded data removed]"
          },
          "metadata": {
            "needs_background": "light"
          }
        }
      ]
    },
    {
      "cell_type": "code",
      "source": [
        ""
      ],
      "metadata": {
        "id": "aHnz6F5H34v4"
      },
      "execution_count": null,
      "outputs": []
    }
  ]
}